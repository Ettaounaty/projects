{
 "cells": [
  {
   "cell_type": "markdown",
   "id": "b01e724e",
   "metadata": {},
   "source": [
    "# Imbalanced classification: credit card fraud detection"
   ]
  },
  {
   "cell_type": "markdown",
   "id": "dc49347c",
   "metadata": {},
   "source": [
    "## importing libraries"
   ]
  },
  {
   "cell_type": "code",
   "execution_count": 2,
   "id": "19b4e640",
   "metadata": {},
   "outputs": [],
   "source": [
    "import csv\n",
    "import numpy as np\n",
    "from tensorflow import keras"
   ]
  },
  {
   "cell_type": "markdown",
   "id": "14c5809d",
   "metadata": {},
   "source": [
    "## Import data"
   ]
  },
  {
   "cell_type": "code",
   "execution_count": 6,
   "id": "9673abcb",
   "metadata": {},
   "outputs": [],
   "source": [
    "fname = r\"C:\\Users\\dell\\Downloads\\creditcard.csv\""
   ]
  },
  {
   "cell_type": "code",
   "execution_count": 7,
   "id": "3e6e11c1",
   "metadata": {},
   "outputs": [
    {
     "name": "stdout",
     "output_type": "stream",
     "text": [
      "HEADER: \"Time\",\"V1\",\"V2\",\"V3\",\"V4\",\"V5\",\"V6\",\"V7\",\"V8\",\"V9\",\"V10\",\"V11\",\"V12\",\"V13\",\"V14\",\"V15\",\"V16\",\"V17\",\"V18\",\"V19\",\"V20\",\"V21\",\"V22\",\"V23\",\"V24\",\"V25\",\"V26\",\"V27\",\"V28\",\"Amount\",\"Class\"\n",
      "EXAMPLE FEATURES: [0.0, -1.3598071336738, -0.0727811733098497, 2.53634673796914, 1.37815522427443, -0.338320769942518, 0.462387777762292, 0.239598554061257, 0.0986979012610507, 0.363786969611213, 0.0907941719789316, -0.551599533260813, -0.617800855762348, -0.991389847235408, -0.311169353699879, 1.46817697209427, -0.470400525259478, 0.207971241929242, 0.0257905801985591, 0.403992960255733, 0.251412098239705, -0.018306777944153, 0.277837575558899, -0.110473910188767, 0.0669280749146731, 0.128539358273528, -0.189114843888824, 0.133558376740387, -0.0210530534538215, 149.62]\n",
      "features.shape: (284807, 30)\n",
      "targets.shape: (284807, 1)\n"
     ]
    }
   ],
   "source": [
    "all_features = []\n",
    "all_targets = []\n",
    "with open(fname) as f:\n",
    "    for i, line in enumerate(f):\n",
    "        if i == 0:\n",
    "            print(\"HEADER:\", line.strip())\n",
    "            continue  # Skip header\n",
    "        fields = line.strip().split(\",\")\n",
    "        all_features.append([float(v.replace('\"', \"\")) for v in fields[:-1]])\n",
    "        all_targets.append([int(fields[-1].replace('\"', \"\"))])\n",
    "        if i == 1:\n",
    "            print(\"EXAMPLE FEATURES:\", all_features[-1])\n",
    "#array lists of features and target \n",
    "features = np.array(all_features, dtype=\"float32\")\n",
    "targets = np.array(all_targets, dtype=\"uint8\")\n",
    "print(\"features.shape:\", features.shape)\n",
    "print(\"targets.shape:\", targets.shape)"
   ]
  },
  {
   "cell_type": "markdown",
   "id": "b8b7b831",
   "metadata": {},
   "source": [
    "### Prepare a validation set\n"
   ]
  },
  {
   "cell_type": "code",
   "execution_count": 8,
   "id": "b0a51d1f",
   "metadata": {},
   "outputs": [
    {
     "name": "stdout",
     "output_type": "stream",
     "text": [
      "Number of training samples: 227846\n",
      "Number of validation samples: 56961\n"
     ]
    }
   ],
   "source": [
    "num_val_samples = int(len(features) * 0.2)\n",
    "#80% of data is for training set\n",
    "train_features = features[:-num_val_samples]\n",
    "train_targets = targets[:-num_val_samples]\n",
    "val_features = features[-num_val_samples:]\n",
    "val_targets = targets[-num_val_samples:]\n",
    "\n",
    "print(\"Number of training samples:\", len(train_features))\n",
    "print(\"Number of validation samples:\", len(val_features))"
   ]
  },
  {
   "cell_type": "markdown",
   "id": "2ae29db1",
   "metadata": {},
   "source": [
    "### Analyze class imbalance in the targets"
   ]
  },
  {
   "cell_type": "code",
   "execution_count": 9,
   "id": "527698e5",
   "metadata": {},
   "outputs": [
    {
     "name": "stdout",
     "output_type": "stream",
     "text": [
      "Number of positive samples in training data: 417 (0.18% of total)\n"
     ]
    }
   ],
   "source": [
    "counts = np.bincount(train_targets[:, 0])\n",
    "print(\n",
    "    \"Number of positive samples in training data: {} ({:.2f}% of total)\".format(\n",
    "        counts[1], 100 * float(counts[1]) / len(train_targets)\n",
    "    )\n",
    ")\n",
    "\n",
    "weight_for_0 = 1.0 / counts[0]\n",
    "weight_for_1 = 1.0 / counts[1]"
   ]
  },
  {
   "cell_type": "markdown",
   "id": "3035fb24",
   "metadata": {},
   "source": [
    "### Normalize the data using training set statistics"
   ]
  },
  {
   "cell_type": "code",
   "execution_count": 10,
   "id": "95cc446b",
   "metadata": {},
   "outputs": [],
   "source": [
    "mean = np.mean(train_features, axis=0)\n",
    "train_features -= mean\n",
    "val_features -= mean\n",
    "std = np.std(train_features, axis=0)\n",
    "train_features /= std\n",
    "val_features /= std"
   ]
  },
  {
   "cell_type": "markdown",
   "id": "2f5aba2d",
   "metadata": {},
   "source": [
    "## Build a binary classification model"
   ]
  },
  {
   "cell_type": "code",
   "execution_count": 11,
   "id": "967aa910",
   "metadata": {},
   "outputs": [
    {
     "name": "stdout",
     "output_type": "stream",
     "text": [
      "Model: \"sequential\"\n",
      "_________________________________________________________________\n",
      " Layer (type)                Output Shape              Param #   \n",
      "=================================================================\n",
      " dense (Dense)               (None, 256)               7936      \n",
      "                                                                 \n",
      " dense_1 (Dense)             (None, 256)               65792     \n",
      "                                                                 \n",
      " dropout (Dropout)           (None, 256)               0         \n",
      "                                                                 \n",
      " dense_2 (Dense)             (None, 256)               65792     \n",
      "                                                                 \n",
      " dropout_1 (Dropout)         (None, 256)               0         \n",
      "                                                                 \n",
      " dense_3 (Dense)             (None, 1)                 257       \n",
      "                                                                 \n",
      "=================================================================\n",
      "Total params: 139,777\n",
      "Trainable params: 139,777\n",
      "Non-trainable params: 0\n",
      "_________________________________________________________________\n"
     ]
    }
   ],
   "source": [
    "from tensorflow import keras\n",
    "\n",
    "model = keras.Sequential(\n",
    "    [\n",
    "        keras.layers.Dense(\n",
    "            256, activation=\"relu\", input_shape=(train_features.shape[-1],)\n",
    "        ),\n",
    "        keras.layers.Dense(256, activation=\"relu\"),\n",
    "        keras.layers.Dropout(0.3),\n",
    "        keras.layers.Dense(256, activation=\"relu\"),\n",
    "        keras.layers.Dropout(0.3),\n",
    "        keras.layers.Dense(1, activation=\"sigmoid\"),\n",
    "    ]\n",
    ")\n",
    "model.summary()"
   ]
  },
  {
   "cell_type": "markdown",
   "id": "50f54ef2",
   "metadata": {},
   "source": [
    "## Train the model with class_weight argument"
   ]
  },
  {
   "cell_type": "code",
   "execution_count": 12,
   "id": "c784de4b",
   "metadata": {},
   "outputs": [
    {
     "name": "stdout",
     "output_type": "stream",
     "text": [
      "Epoch 1/30\n",
      "112/112 - 4s - loss: 2.2744e-06 - fn: 39.0000 - fp: 27395.0000 - tn: 200034.0000 - tp: 378.0000 - precision: 0.0136 - recall: 0.9065 - val_loss: 0.0927 - val_fn: 8.0000 - val_fp: 1067.0000 - val_tn: 55819.0000 - val_tp: 67.0000 - val_precision: 0.0591 - val_recall: 0.8933 - 4s/epoch - 38ms/step\n",
      "Epoch 2/30\n",
      "112/112 - 3s - loss: 1.6079e-06 - fn: 36.0000 - fp: 8764.0000 - tn: 218665.0000 - tp: 381.0000 - precision: 0.0417 - recall: 0.9137 - val_loss: 0.1085 - val_fn: 11.0000 - val_fp: 457.0000 - val_tn: 56429.0000 - val_tp: 64.0000 - val_precision: 0.1228 - val_recall: 0.8533 - 3s/epoch - 26ms/step\n",
      "Epoch 3/30\n",
      "112/112 - 3s - loss: 1.4376e-06 - fn: 34.0000 - fp: 8434.0000 - tn: 218995.0000 - tp: 383.0000 - precision: 0.0434 - recall: 0.9185 - val_loss: 0.0811 - val_fn: 9.0000 - val_fp: 794.0000 - val_tn: 56092.0000 - val_tp: 66.0000 - val_precision: 0.0767 - val_recall: 0.8800 - 3s/epoch - 25ms/step\n",
      "Epoch 4/30\n",
      "112/112 - 3s - loss: 1.0207e-06 - fn: 25.0000 - fp: 5888.0000 - tn: 221541.0000 - tp: 392.0000 - precision: 0.0624 - recall: 0.9400 - val_loss: 0.1338 - val_fn: 7.0000 - val_fp: 1776.0000 - val_tn: 55110.0000 - val_tp: 68.0000 - val_precision: 0.0369 - val_recall: 0.9067 - 3s/epoch - 25ms/step\n",
      "Epoch 5/30\n",
      "112/112 - 3s - loss: 1.0315e-06 - fn: 20.0000 - fp: 6873.0000 - tn: 220556.0000 - tp: 397.0000 - precision: 0.0546 - recall: 0.9520 - val_loss: 0.0232 - val_fn: 12.0000 - val_fp: 211.0000 - val_tn: 56675.0000 - val_tp: 63.0000 - val_precision: 0.2299 - val_recall: 0.8400 - 3s/epoch - 28ms/step\n",
      "Epoch 6/30\n",
      "112/112 - 4s - loss: 7.7128e-07 - fn: 18.0000 - fp: 5398.0000 - tn: 222031.0000 - tp: 399.0000 - precision: 0.0688 - recall: 0.9568 - val_loss: 0.0988 - val_fn: 8.0000 - val_fp: 1765.0000 - val_tn: 55121.0000 - val_tp: 67.0000 - val_precision: 0.0366 - val_recall: 0.8933 - 4s/epoch - 31ms/step\n",
      "Epoch 7/30\n",
      "112/112 - 3s - loss: 8.7357e-07 - fn: 18.0000 - fp: 7431.0000 - tn: 219998.0000 - tp: 399.0000 - precision: 0.0510 - recall: 0.9568 - val_loss: 0.1009 - val_fn: 8.0000 - val_fp: 2418.0000 - val_tn: 54468.0000 - val_tp: 67.0000 - val_precision: 0.0270 - val_recall: 0.8933 - 3s/epoch - 30ms/step\n",
      "Epoch 8/30\n",
      "112/112 - 3s - loss: 9.7066e-07 - fn: 24.0000 - fp: 7679.0000 - tn: 219750.0000 - tp: 393.0000 - precision: 0.0487 - recall: 0.9424 - val_loss: 0.0680 - val_fn: 7.0000 - val_fp: 1020.0000 - val_tn: 55866.0000 - val_tp: 68.0000 - val_precision: 0.0625 - val_recall: 0.9067 - 3s/epoch - 28ms/step\n",
      "Epoch 9/30\n",
      "112/112 - 3s - loss: 6.2090e-07 - fn: 13.0000 - fp: 5537.0000 - tn: 221892.0000 - tp: 404.0000 - precision: 0.0680 - recall: 0.9688 - val_loss: 0.0369 - val_fn: 10.0000 - val_fp: 622.0000 - val_tn: 56264.0000 - val_tp: 65.0000 - val_precision: 0.0946 - val_recall: 0.8667 - 3s/epoch - 30ms/step\n",
      "Epoch 10/30\n",
      "112/112 - 4s - loss: 5.8035e-07 - fn: 9.0000 - fp: 5917.0000 - tn: 221512.0000 - tp: 408.0000 - precision: 0.0645 - recall: 0.9784 - val_loss: 0.0221 - val_fn: 7.0000 - val_fp: 457.0000 - val_tn: 56429.0000 - val_tp: 68.0000 - val_precision: 0.1295 - val_recall: 0.9067 - 4s/epoch - 31ms/step\n",
      "Epoch 11/30\n",
      "112/112 - 4s - loss: 4.3483e-07 - fn: 8.0000 - fp: 4806.0000 - tn: 222623.0000 - tp: 409.0000 - precision: 0.0784 - recall: 0.9808 - val_loss: 0.0220 - val_fn: 10.0000 - val_fp: 538.0000 - val_tn: 56348.0000 - val_tp: 65.0000 - val_precision: 0.1078 - val_recall: 0.8667 - 4s/epoch - 32ms/step\n",
      "Epoch 12/30\n",
      "112/112 - 3s - loss: 4.6106e-07 - fn: 8.0000 - fp: 5079.0000 - tn: 222350.0000 - tp: 409.0000 - precision: 0.0745 - recall: 0.9808 - val_loss: 0.0209 - val_fn: 8.0000 - val_fp: 452.0000 - val_tn: 56434.0000 - val_tp: 67.0000 - val_precision: 0.1291 - val_recall: 0.8933 - 3s/epoch - 31ms/step\n",
      "Epoch 13/30\n",
      "112/112 - 3s - loss: 4.9787e-07 - fn: 7.0000 - fp: 6557.0000 - tn: 220872.0000 - tp: 410.0000 - precision: 0.0588 - recall: 0.9832 - val_loss: 0.0352 - val_fn: 10.0000 - val_fp: 802.0000 - val_tn: 56084.0000 - val_tp: 65.0000 - val_precision: 0.0750 - val_recall: 0.8667 - 3s/epoch - 30ms/step\n",
      "Epoch 14/30\n",
      "112/112 - 4s - loss: 1.0478e-06 - fn: 11.0000 - fp: 8052.0000 - tn: 219377.0000 - tp: 406.0000 - precision: 0.0480 - recall: 0.9736 - val_loss: 0.0457 - val_fn: 9.0000 - val_fp: 927.0000 - val_tn: 55959.0000 - val_tp: 66.0000 - val_precision: 0.0665 - val_recall: 0.8800 - 4s/epoch - 35ms/step\n",
      "Epoch 15/30\n",
      "112/112 - 4s - loss: 1.0439e-06 - fn: 18.0000 - fp: 7513.0000 - tn: 219916.0000 - tp: 399.0000 - precision: 0.0504 - recall: 0.9568 - val_loss: 0.1210 - val_fn: 5.0000 - val_fp: 3200.0000 - val_tn: 53686.0000 - val_tp: 70.0000 - val_precision: 0.0214 - val_recall: 0.9333 - 4s/epoch - 35ms/step\n",
      "Epoch 16/30\n",
      "112/112 - 4s - loss: 6.3381e-07 - fn: 12.0000 - fp: 7372.0000 - tn: 220057.0000 - tp: 405.0000 - precision: 0.0521 - recall: 0.9712 - val_loss: 0.0254 - val_fn: 7.0000 - val_fp: 566.0000 - val_tn: 56320.0000 - val_tp: 68.0000 - val_precision: 0.1073 - val_recall: 0.9067 - 4s/epoch - 32ms/step\n",
      "Epoch 17/30\n",
      "112/112 - 3s - loss: 5.3099e-07 - fn: 7.0000 - fp: 6728.0000 - tn: 220701.0000 - tp: 410.0000 - precision: 0.0574 - recall: 0.9832 - val_loss: 0.0502 - val_fn: 7.0000 - val_fp: 1248.0000 - val_tn: 55638.0000 - val_tp: 68.0000 - val_precision: 0.0517 - val_recall: 0.9067 - 3s/epoch - 27ms/step\n",
      "Epoch 18/30\n",
      "112/112 - 3s - loss: 5.1519e-07 - fn: 6.0000 - fp: 5959.0000 - tn: 221470.0000 - tp: 411.0000 - precision: 0.0645 - recall: 0.9856 - val_loss: 0.0895 - val_fn: 6.0000 - val_fp: 2381.0000 - val_tn: 54505.0000 - val_tp: 69.0000 - val_precision: 0.0282 - val_recall: 0.9200 - 3s/epoch - 27ms/step\n",
      "Epoch 19/30\n",
      "112/112 - 3s - loss: 7.1926e-07 - fn: 10.0000 - fp: 7390.0000 - tn: 220039.0000 - tp: 407.0000 - precision: 0.0522 - recall: 0.9760 - val_loss: 0.0500 - val_fn: 7.0000 - val_fp: 890.0000 - val_tn: 55996.0000 - val_tp: 68.0000 - val_precision: 0.0710 - val_recall: 0.9067 - 3s/epoch - 27ms/step\n",
      "Epoch 20/30\n",
      "112/112 - 3s - loss: 1.2576e-06 - fn: 12.0000 - fp: 7059.0000 - tn: 220370.0000 - tp: 405.0000 - precision: 0.0543 - recall: 0.9712 - val_loss: 0.0573 - val_fn: 8.0000 - val_fp: 871.0000 - val_tn: 56015.0000 - val_tp: 67.0000 - val_precision: 0.0714 - val_recall: 0.8933 - 3s/epoch - 28ms/step\n",
      "Epoch 21/30\n",
      "112/112 - 3s - loss: 7.9312e-07 - fn: 7.0000 - fp: 4200.0000 - tn: 223229.0000 - tp: 410.0000 - precision: 0.0889 - recall: 0.9832 - val_loss: 0.0552 - val_fn: 8.0000 - val_fp: 1137.0000 - val_tn: 55749.0000 - val_tp: 67.0000 - val_precision: 0.0556 - val_recall: 0.8933 - 3s/epoch - 27ms/step\n",
      "Epoch 22/30\n",
      "112/112 - 3s - loss: 7.3569e-07 - fn: 4.0000 - fp: 4032.0000 - tn: 223397.0000 - tp: 413.0000 - precision: 0.0929 - recall: 0.9904 - val_loss: 0.0278 - val_fn: 12.0000 - val_fp: 492.0000 - val_tn: 56394.0000 - val_tp: 63.0000 - val_precision: 0.1135 - val_recall: 0.8400 - 3s/epoch - 27ms/step\n",
      "Epoch 23/30\n",
      "112/112 - 3s - loss: 6.9250e-07 - fn: 5.0000 - fp: 4692.0000 - tn: 222737.0000 - tp: 412.0000 - precision: 0.0807 - recall: 0.9880 - val_loss: 0.0399 - val_fn: 9.0000 - val_fp: 768.0000 - val_tn: 56118.0000 - val_tp: 66.0000 - val_precision: 0.0791 - val_recall: 0.8800 - 3s/epoch - 28ms/step\n",
      "Epoch 24/30\n",
      "112/112 - 3s - loss: 1.4851e-06 - fn: 13.0000 - fp: 5898.0000 - tn: 221531.0000 - tp: 404.0000 - precision: 0.0641 - recall: 0.9688 - val_loss: 0.5476 - val_fn: 8.0000 - val_fp: 1892.0000 - val_tn: 54994.0000 - val_tp: 67.0000 - val_precision: 0.0342 - val_recall: 0.8933 - 3s/epoch - 30ms/step\n",
      "Epoch 25/30\n",
      "112/112 - 4s - loss: 2.6196e-06 - fn: 12.0000 - fp: 6307.0000 - tn: 221122.0000 - tp: 405.0000 - precision: 0.0603 - recall: 0.9712 - val_loss: 0.0385 - val_fn: 10.0000 - val_fp: 486.0000 - val_tn: 56400.0000 - val_tp: 65.0000 - val_precision: 0.1180 - val_recall: 0.8667 - 4s/epoch - 32ms/step\n",
      "Epoch 26/30\n",
      "112/112 - 3s - loss: 1.4772e-06 - fn: 9.0000 - fp: 4819.0000 - tn: 222610.0000 - tp: 408.0000 - precision: 0.0781 - recall: 0.9784 - val_loss: 0.2101 - val_fn: 8.0000 - val_fp: 1057.0000 - val_tn: 55829.0000 - val_tp: 67.0000 - val_precision: 0.0596 - val_recall: 0.8933 - 3s/epoch - 29ms/step\n",
      "Epoch 27/30\n",
      "112/112 - 3s - loss: 3.0646e-06 - fn: 14.0000 - fp: 7239.0000 - tn: 220190.0000 - tp: 403.0000 - precision: 0.0527 - recall: 0.9664 - val_loss: 0.2832 - val_fn: 5.0000 - val_fp: 3016.0000 - val_tn: 53870.0000 - val_tp: 70.0000 - val_precision: 0.0227 - val_recall: 0.9333 - 3s/epoch - 30ms/step\n"
     ]
    },
    {
     "name": "stdout",
     "output_type": "stream",
     "text": [
      "Epoch 28/30\n",
      "112/112 - 3s - loss: 9.2349e-07 - fn: 10.0000 - fp: 5480.0000 - tn: 221949.0000 - tp: 407.0000 - precision: 0.0691 - recall: 0.9760 - val_loss: 0.0527 - val_fn: 9.0000 - val_fp: 890.0000 - val_tn: 55996.0000 - val_tp: 66.0000 - val_precision: 0.0690 - val_recall: 0.8800 - 3s/epoch - 29ms/step\n",
      "Epoch 29/30\n",
      "112/112 - 3s - loss: 4.0395e-07 - fn: 4.0000 - fp: 3547.0000 - tn: 223882.0000 - tp: 413.0000 - precision: 0.1043 - recall: 0.9904 - val_loss: 0.0388 - val_fn: 9.0000 - val_fp: 853.0000 - val_tn: 56033.0000 - val_tp: 66.0000 - val_precision: 0.0718 - val_recall: 0.8800 - 3s/epoch - 30ms/step\n",
      "Epoch 30/30\n",
      "112/112 - 4s - loss: 3.5620e-07 - fn: 2.0000 - fp: 3555.0000 - tn: 223874.0000 - tp: 415.0000 - precision: 0.1045 - recall: 0.9952 - val_loss: 0.0110 - val_fn: 12.0000 - val_fp: 153.0000 - val_tn: 56733.0000 - val_tp: 63.0000 - val_precision: 0.2917 - val_recall: 0.8400 - 4s/epoch - 37ms/step\n"
     ]
    },
    {
     "data": {
      "text/plain": [
       "<keras.callbacks.History at 0x1ad3bceca00>"
      ]
     },
     "execution_count": 12,
     "metadata": {},
     "output_type": "execute_result"
    }
   ],
   "source": [
    "metrics = [\n",
    "    keras.metrics.FalseNegatives(name=\"fn\"),\n",
    "    keras.metrics.FalsePositives(name=\"fp\"),\n",
    "    keras.metrics.TrueNegatives(name=\"tn\"),\n",
    "    keras.metrics.TruePositives(name=\"tp\"),\n",
    "    keras.metrics.Precision(name=\"precision\"),\n",
    "    keras.metrics.Recall(name=\"recall\"),\n",
    "]\n",
    "\n",
    "model.compile(\n",
    "    optimizer=keras.optimizers.Adam(1e-2), loss=\"binary_crossentropy\", metrics=metrics\n",
    ")\n",
    "    \n",
    "callbacks = [keras.callbacks.ModelCheckpoint(\"fraud_model_at_epoch_{epoch}.h5\")]\n",
    "class_weight = {0: weight_for_0, 1: weight_for_1}\n",
    "\n",
    "model.fit(\n",
    "    train_features,\n",
    "    train_targets,\n",
    "    batch_size=2048,\n",
    "    epochs=30,\n",
    "    verbose=2,\n",
    "    callbacks=callbacks,\n",
    "    validation_data=(val_features, val_targets),\n",
    "    class_weight=class_weight,\n",
    ")"
   ]
  }
 ],
 "metadata": {
  "kernelspec": {
   "display_name": "Python 3 (ipykernel)",
   "language": "python",
   "name": "python3"
  },
  "language_info": {
   "codemirror_mode": {
    "name": "ipython",
    "version": 3
   },
   "file_extension": ".py",
   "mimetype": "text/x-python",
   "name": "python",
   "nbconvert_exporter": "python",
   "pygments_lexer": "ipython3",
   "version": "3.10.8"
  }
 },
 "nbformat": 4,
 "nbformat_minor": 5
}
